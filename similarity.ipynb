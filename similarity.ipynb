{
  "nbformat": 4,
  "nbformat_minor": 0,
  "metadata": {
    "colab": {
      "name": "similarity.ipynb",
      "provenance": [],
      "include_colab_link": true
    },
    "kernelspec": {
      "name": "python3",
      "display_name": "Python 3"
    }
  },
  "cells": [
    {
      "cell_type": "markdown",
      "metadata": {
        "id": "view-in-github",
        "colab_type": "text"
      },
      "source": [
        "<a href=\"https://colab.research.google.com/github/devrakib/deep_learning/blob/master/similarity.ipynb\" target=\"_parent\"><img src=\"https://colab.research.google.com/assets/colab-badge.svg\" alt=\"Open In Colab\"/></a>"
      ]
    },
    {
      "cell_type": "code",
      "metadata": {
        "id": "0SE-FTU9qnLW",
        "colab_type": "code",
        "colab": {}
      },
      "source": [
        "import re\n",
        "import os\n",
        "import glob\n",
        "import string\n",
        "\n",
        "from gensim.models import Word2Vec\n",
        "from gensim.models import FastText"
      ],
      "execution_count": 0,
      "outputs": []
    },
    {
      "cell_type": "code",
      "metadata": {
        "id": "FW35vVT8rUnj",
        "colab_type": "code",
        "colab": {
          "base_uri": "https://localhost:8080/",
          "height": 311
        },
        "outputId": "65f5ef46-516f-45aa-cf92-9ae4a6f19de1"
      },
      "source": [
        "!wget https://github.com/devrakib/deep_learning/raw/master/datasets/bnwiki-texts.zip"
      ],
      "execution_count": 2,
      "outputs": [
        {
          "output_type": "stream",
          "text": [
            "--2019-11-19 17:20:34--  https://github.com/devrakib/deep_learning/raw/master/datasets/bnwiki-texts.zip\n",
            "Resolving github.com (github.com)... 140.82.118.4\n",
            "Connecting to github.com (github.com)|140.82.118.4|:443... connected.\n",
            "HTTP request sent, awaiting response... 302 Found\n",
            "Location: https://raw.githubusercontent.com/devrakib/deep_learning/master/datasets/bnwiki-texts.zip [following]\n",
            "--2019-11-19 17:20:39--  https://raw.githubusercontent.com/devrakib/deep_learning/master/datasets/bnwiki-texts.zip\n",
            "Resolving raw.githubusercontent.com (raw.githubusercontent.com)... 151.101.0.133, 151.101.64.133, 151.101.128.133, ...\n",
            "Connecting to raw.githubusercontent.com (raw.githubusercontent.com)|151.101.0.133|:443... connected.\n",
            "HTTP request sent, awaiting response... 200 OK\n",
            "Length: 61696513 (59M) [application/zip]\n",
            "Saving to: ‘bnwiki-texts.zip’\n",
            "\n",
            "bnwiki-texts.zip    100%[===================>]  58.84M   189MB/s    in 0.3s    \n",
            "\n",
            "2019-11-19 17:20:41 (189 MB/s) - ‘bnwiki-texts.zip’ saved [61696513/61696513]\n",
            "\n"
          ],
          "name": "stdout"
        }
      ]
    },
    {
      "cell_type": "code",
      "metadata": {
        "id": "VOsDAg01rhbZ",
        "colab_type": "code",
        "colab": {
          "base_uri": "https://localhost:8080/",
          "height": 54
        },
        "outputId": "a066bb66-1eef-4ff5-8824-6c10b3566062"
      },
      "source": [
        "!unzip bnwiki-texts.zip"
      ],
      "execution_count": 3,
      "outputs": [
        {
          "output_type": "stream",
          "text": [
            "Archive:  bnwiki-texts.zip\n",
            "  inflating: bnwiki-texts-preprocessed.txt  \n"
          ],
          "name": "stdout"
        }
      ]
    },
    {
      "cell_type": "code",
      "metadata": {
        "id": "ddj-oM7MruNx",
        "colab_type": "code",
        "colab": {}
      },
      "source": [
        "import warnings\n",
        "warnings.filterwarnings(\"ignore\")"
      ],
      "execution_count": 0,
      "outputs": []
    },
    {
      "cell_type": "code",
      "metadata": {
        "id": "bS8O5zrdrzRS",
        "colab_type": "code",
        "colab": {}
      },
      "source": [
        "preprocessed_text_file_path = 'bnwiki-texts-preprocessed.txt'"
      ],
      "execution_count": 0,
      "outputs": []
    },
    {
      "cell_type": "code",
      "metadata": {
        "id": "lI0ZAvhmr6Yr",
        "colab_type": "code",
        "colab": {}
      },
      "source": [
        "lines_from_file = []\n",
        "with open(preprocessed_text_file_path, encoding='utf8') as text_file:\n",
        "    for line in text_file:\n",
        "        lines_from_file.append(line)"
      ],
      "execution_count": 0,
      "outputs": []
    },
    {
      "cell_type": "code",
      "metadata": {
        "id": "k7EzG6kCsBnR",
        "colab_type": "code",
        "colab": {
          "base_uri": "https://localhost:8080/",
          "height": 35
        },
        "outputId": "940acc73-b29a-4758-ea87-09259c31aa5d"
      },
      "source": [
        "len(lines_from_file)"
      ],
      "execution_count": 7,
      "outputs": [
        {
          "output_type": "execute_result",
          "data": {
            "text/plain": [
              "1363435"
            ]
          },
          "metadata": {
            "tags": []
          },
          "execution_count": 7
        }
      ]
    },
    {
      "cell_type": "code",
      "metadata": {
        "id": "o6TXxmb7sG7J",
        "colab_type": "code",
        "colab": {}
      },
      "source": [
        "tokenized_lines = []\n",
        "for single_line in lines_from_file:\n",
        "    tokenized_lines.append(single_line.split())"
      ],
      "execution_count": 0,
      "outputs": []
    },
    {
      "cell_type": "code",
      "metadata": {
        "id": "euiAGASSsOTZ",
        "colab_type": "code",
        "colab": {
          "base_uri": "https://localhost:8080/",
          "height": 35
        },
        "outputId": "0f775398-1e12-4e49-c7b7-707363a31c53"
      },
      "source": [
        "print(len(tokenized_lines))"
      ],
      "execution_count": 9,
      "outputs": [
        {
          "output_type": "stream",
          "text": [
            "1363435\n"
          ],
          "name": "stdout"
        }
      ]
    },
    {
      "cell_type": "code",
      "metadata": {
        "id": "725JkuOnsS6J",
        "colab_type": "code",
        "colab": {
          "base_uri": "https://localhost:8080/",
          "height": 55
        },
        "outputId": "b020827e-8c1e-4b17-e5fb-c4d1972bb3d9"
      },
      "source": [
        "print(tokenized_lines[0])"
      ],
      "execution_count": 10,
      "outputs": [
        {
          "output_type": "stream",
          "text": [
            "['বাংলা', 'ভাষা', 'বাংলা', 'ভাষা', 'বাংলা', 'ভাষা', 'বাঙলা', 'বাঙ্গলা', 'তথা', 'বাঙ্গালা', 'নামগুলোতেও', 'পরিচিত', 'একটি', 'ইন্দো', 'আর্য', 'ভাষা', 'যা', 'দক্ষিণ', 'এশিয়ার', 'বাঙালি', 'জাতির', 'প্রধান', 'কথ্য', 'ও', 'লেখ্য', 'ভাষা']\n"
          ],
          "name": "stdout"
        }
      ]
    },
    {
      "cell_type": "code",
      "metadata": {
        "id": "UfubbmfhsYuR",
        "colab_type": "code",
        "colab": {}
      },
      "source": [
        "model = Word2Vec(tokenized_lines, size=200, window=5, min_count=10)"
      ],
      "execution_count": 0,
      "outputs": []
    },
    {
      "cell_type": "code",
      "metadata": {
        "id": "zbkDv72esfZh",
        "colab_type": "code",
        "colab": {}
      },
      "source": [
        "fasttext_model = FastText(tokenized_lines, size=200, window=5, min_count=10)"
      ],
      "execution_count": 0,
      "outputs": []
    },
    {
      "cell_type": "code",
      "metadata": {
        "id": "c_KXTK6otxBO",
        "colab_type": "code",
        "colab": {
          "base_uri": "https://localhost:8080/",
          "height": 641
        },
        "outputId": "45095051-ff4b-4130-ba5c-256c9f70be43"
      },
      "source": [
        "vector_a = fasttext_model.wv.get_vector('বাংলা')\n",
        "print(vector_a)"
      ],
      "execution_count": 13,
      "outputs": [
        {
          "output_type": "stream",
          "text": [
            "[ 2.0094237  -2.6376395  -0.13988692  2.1560395   0.1242156   4.0335145\n",
            "  1.6027467  -1.6407934  -0.2190487   0.3721679   2.1760292   4.401985\n",
            " -2.146995   -2.2783267  -2.508602    0.6142903  -1.6288267  -0.7265825\n",
            " -1.4309466   1.7370545  -1.366532    0.25676897  1.1973189  -0.34553024\n",
            " -0.4756153  -0.6607823  -1.2232425  -1.5083394   0.10141246  1.6826212\n",
            " -0.01026971 -0.45736334 -1.5158697  -0.15865621  0.27771345 -1.5950738\n",
            "  0.24542397  1.8901747  -0.12168574 -1.9830039  -0.3277388  -1.7880267\n",
            "  0.31964892 -0.14132099  0.29927894 -1.406983    0.76007116 -1.9289124\n",
            " -2.1821885  -1.1013359  -0.5763751  -2.5812616   0.86360484  3.8700774\n",
            "  1.3579489  -0.16867393 -1.3755325   0.75552076 -1.0850688  -2.011967\n",
            " -0.7430651  -0.5385185  -2.2775304   0.61688775  1.742813   -1.7480015\n",
            " -0.8918618  -0.3484975  -0.42980322 -2.5267196  -1.4030176  -1.9556687\n",
            "  0.5939044  -2.7188308  -1.2802727   0.4027729  -0.3012476  -1.2843446\n",
            " -1.0354973   1.3725326   0.51680136  0.55651575 -0.72212315  0.73619026\n",
            "  0.27743012  1.2152711   2.057872    0.4525418  -2.4534745  -0.68568474\n",
            "  0.17766461 -2.4757154   0.34648317 -0.303197   -1.803887    1.7435116\n",
            "  2.277957    0.00933137  0.84517795 -0.94582635 -0.04074189 -0.25743434\n",
            " -1.4217103  -2.2905018   0.17146859  2.0390646   1.8616431   0.1256732\n",
            "  1.8209102  -0.17419915 -3.8115742  -0.7328138  -0.14062287 -0.17925757\n",
            " -3.028203   -3.6773353   0.7898682   1.1011302   3.8228302  -0.6436565\n",
            "  1.1446389   1.8165287  -1.2354157   1.2870997  -1.7390608  -3.1465726\n",
            "  0.8330751   2.0364177  -1.2256783   0.5246284  -0.22732347 -2.0955374\n",
            " -1.3904322   3.3231766  -1.1100845  -1.8331263  -1.2771329   1.8731446\n",
            " -1.2022601  -3.186696    0.13629629 -0.1769466   1.72555     0.6355824\n",
            "  1.0359633   2.4229834   1.4280219   2.7684639  -0.13407005 -0.18927807\n",
            "  1.2797586   1.7452217   0.7226448  -1.4967259  -2.8636515   1.367335\n",
            "  0.36173716 -0.25627932 -1.6007061   3.3471248   0.9281563   2.8077233\n",
            " -0.5867168  -0.47764513  2.2828944  -0.97754544 -1.6763219   2.4711773\n",
            " -1.0615853   1.1350704   1.8973801  -2.502542   -1.2124505   0.40240854\n",
            " -0.7210275   0.26494896 -3.788443   -1.7928277   0.48750207  0.2762035\n",
            "  0.75482476 -1.6308626   0.3545166   1.2212245  -1.8110529  -1.4950106\n",
            "  0.96538126  0.24961428  2.9811363  -2.4266622   0.7909452   3.4571953\n",
            " -1.9067155  -0.45951757  1.7712742  -1.1886622  -1.8916296   0.72579545\n",
            "  2.85939    -1.1318997 ]\n"
          ],
          "name": "stdout"
        }
      ]
    },
    {
      "cell_type": "code",
      "metadata": {
        "id": "vHk21tioyXx5",
        "colab_type": "code",
        "colab": {
          "base_uri": "https://localhost:8080/",
          "height": 127
        },
        "outputId": "8d2f5509-1ce4-43a6-d5c4-393bf2aa206e"
      },
      "source": [
        "print(\"ছেলে শব্দটার সবচেয়ে কাছাকাছি শব্দ কি?\")\n",
        "model.wv.most_similar('ছেলে', topn=5)"
      ],
      "execution_count": 14,
      "outputs": [
        {
          "output_type": "stream",
          "text": [
            "ছেলে শব্দটার সবচেয়ে কাছাকাছি শব্দ কি?\n"
          ],
          "name": "stdout"
        },
        {
          "output_type": "execute_result",
          "data": {
            "text/plain": [
              "[('মেয়ে', 0.8705669045448303),\n",
              " ('বোন', 0.8017606735229492),\n",
              " ('ভাই', 0.7636685371398926),\n",
              " ('কন্যা', 0.7363564968109131),\n",
              " ('সন্তান', 0.7110600471496582)]"
            ]
          },
          "metadata": {
            "tags": []
          },
          "execution_count": 14
        }
      ]
    },
    {
      "cell_type": "code",
      "metadata": {
        "id": "EitI13wByeQH",
        "colab_type": "code",
        "colab": {
          "base_uri": "https://localhost:8080/",
          "height": 127
        },
        "outputId": "3779ced7-3678-4ae6-f4bc-760d106f77b7"
      },
      "source": [
        "print(\"ফাস্টটেক্সট উদাহরণ: ছেলে শব্দটার সবচেয়ে কাছাকাছি শব্দ কি?\")\n",
        "fasttext_model.wv.most_similar('ছেলে', topn=5)"
      ],
      "execution_count": 15,
      "outputs": [
        {
          "output_type": "stream",
          "text": [
            "ফাস্টটেক্সট উদাহরণ: ছেলে শব্দটার সবচেয়ে কাছাকাছি শব্দ কি?\n"
          ],
          "name": "stdout"
        },
        {
          "output_type": "execute_result",
          "data": {
            "text/plain": [
              "[('ছেলেমেয়ে', 0.8619801998138428),\n",
              " ('ছেলেরাই', 0.7921239733695984),\n",
              " ('মেয়ে', 0.7834312915802002),\n",
              " ('ছেলেবন্ধু', 0.7804476022720337),\n",
              " ('ছেলেটা', 0.7622857093811035)]"
            ]
          },
          "metadata": {
            "tags": []
          },
          "execution_count": 15
        }
      ]
    },
    {
      "cell_type": "code",
      "metadata": {
        "id": "KOvfC8zhypbu",
        "colab_type": "code",
        "colab": {
          "base_uri": "https://localhost:8080/",
          "height": 127
        },
        "outputId": "4a7c950e-5836-4e19-df73-ba627dad5001"
      },
      "source": [
        "print(\"এখানে দেখি, বাবা + মেয়ে - ছেলে =?\")\n",
        "model.wv.most_similar(positive=['বাবা', 'মেয়ে'], negative=['ছেলে'], topn=5)"
      ],
      "execution_count": 16,
      "outputs": [
        {
          "output_type": "stream",
          "text": [
            "এখানে দেখি, বাবা + মেয়ে - ছেলে =?\n"
          ],
          "name": "stdout"
        },
        {
          "output_type": "execute_result",
          "data": {
            "text/plain": [
              "[('মা', 0.6955821514129639),\n",
              " ('পিতা', 0.646618127822876),\n",
              " ('দাদা', 0.6398104429244995),\n",
              " ('পিতামাতা', 0.6160589456558228),\n",
              " ('বান্ধবী', 0.6064302921295166)]"
            ]
          },
          "metadata": {
            "tags": []
          },
          "execution_count": 16
        }
      ]
    },
    {
      "cell_type": "code",
      "metadata": {
        "id": "WyBFfeFGyw8P",
        "colab_type": "code",
        "colab": {
          "base_uri": "https://localhost:8080/",
          "height": 641
        },
        "outputId": "27864840-48ab-4768-ac79-52062b507d50"
      },
      "source": [
        "print(model.wv['বাংলাদেশ'])"
      ],
      "execution_count": 17,
      "outputs": [
        {
          "output_type": "stream",
          "text": [
            "[ 1.2232165  -0.4099237   2.5360353   1.2501876  -2.0390785  -1.068905\n",
            " -2.3600852   1.1966008   0.47115558 -2.6071355  -0.43838578  0.13977532\n",
            " -0.31706852  1.0556455  -0.1916816  -0.23695683 -0.02266177  0.85709614\n",
            " -0.6998164  -3.0846753   0.05337741  1.1525759  -0.774848    0.10238817\n",
            " -0.16884494 -1.5210305  -0.35177204 -1.8815724  -3.8136432   0.9079455\n",
            "  1.4193355  -0.1810638  -3.9416358  -1.821884    0.04313812  2.9917252\n",
            " -0.07827542 -2.473676    0.9564248   1.1458092   0.78299034  0.8947542\n",
            "  1.5763198   0.16932797 -1.0311104  -0.44007492 -1.6145523  -0.4243796\n",
            " -0.44253623 -1.579159    1.022703   -2.8453712  -1.0479639   1.6673387\n",
            "  1.2428433  -0.73269683 -1.38596     0.9981659  -1.2252297  -0.9412701\n",
            "  0.48406255  1.0828985  -0.10946784  2.758347   -0.48854354  0.30654243\n",
            " -1.2124431   0.7448453  -0.36380315  0.8113333   1.0312366  -0.02371704\n",
            "  1.259361    0.5562915   2.0629141   0.43214038 -0.9587966   0.74200153\n",
            "  0.02090129 -0.08331544 -0.04411548 -1.1335257   2.0804837   4.49159\n",
            "  1.7294222  -0.7759642  -1.4643075  -0.19470122 -1.060233    1.3121105\n",
            "  1.1171746   0.62388045 -1.1696647  -0.9681365   1.1507989  -0.78147197\n",
            "  0.52822757 -1.9490944   0.3575261   0.6636477   0.7730176  -0.8191893\n",
            " -0.3451658   0.1339259   1.5480074   0.08859045 -0.91614044  1.1927173\n",
            " -2.3928976   0.8320321  -0.5128308   1.3820816  -1.0065596  -0.08662617\n",
            "  2.1614838   0.15246294 -0.47696957  0.43391952 -2.610843   -0.89411396\n",
            " -3.0132105   1.0864543  -1.5834936   2.440248    0.3674363   0.98094034\n",
            "  0.0335115   2.956143    1.3925443  -0.6814459   0.82356095  1.711014\n",
            " -0.49842614 -3.4941132  -0.2663697  -0.26101574 -0.05631465  0.9216852\n",
            "  3.5055957  -0.31426278 -0.39936355  0.9376363  -0.4983849   1.8786119\n",
            " -3.448372    1.8858104  -1.1344092  -0.15106663  0.4056764   2.668102\n",
            " -1.0661036   1.233509   -1.359422   -1.0155102   3.5100467   1.1167359\n",
            "  1.1676861  -0.75233394 -0.4009698  -0.37016013  0.5679075  -0.13330166\n",
            " -1.3535624   0.305091    0.4785993  -1.1530299  -0.49577627  0.7651994\n",
            " -2.9220777  -0.49436995 -2.2187312  -1.6805407   0.08485308 -1.1525389\n",
            "  1.1055781   0.74444914 -1.4422501  -0.9805539   0.37054947  2.1885605\n",
            "  0.13534702 -0.40804356  0.56195575 -0.08082564 -2.636547    2.9148192\n",
            "  1.0100743   1.7234143  -0.33133644  1.332205    0.98456377 -2.5994415\n",
            " -0.7841307  -1.2288678  -1.2013794  -2.502291    0.17899072  0.21337937\n",
            " -2.0210338   0.15382594]\n"
          ],
          "name": "stdout"
        }
      ]
    },
    {
      "cell_type": "code",
      "metadata": {
        "id": "-M7WbWw1y39f",
        "colab_type": "code",
        "colab": {
          "base_uri": "https://localhost:8080/",
          "height": 54
        },
        "outputId": "5e90402f-bee5-4409-cc67-c6569683c5ce"
      },
      "source": [
        "print('এখানে কোন শব্দটা যাচ্ছে না বাকিদের সাথে?')\n",
        "model.wv.doesnt_match(\"ঢাকা রাজশাহী রংপুর নজরুল\".split())"
      ],
      "execution_count": 18,
      "outputs": [
        {
          "output_type": "stream",
          "text": [
            "এখানে কোন শব্দটা যাচ্ছে না বাকিদের সাথে?\n"
          ],
          "name": "stdout"
        },
        {
          "output_type": "execute_result",
          "data": {
            "text/plain": [
              "'নজরুল'"
            ]
          },
          "metadata": {
            "tags": []
          },
          "execution_count": 18
        }
      ]
    },
    {
      "cell_type": "code",
      "metadata": {
        "id": "GzzB_Orwy9wO",
        "colab_type": "code",
        "colab": {
          "base_uri": "https://localhost:8080/",
          "height": 35
        },
        "outputId": "7a975550-b278-45a1-c5ff-6e22f875af65"
      },
      "source": [
        "print(model.wv.similarity('শিক্ষা', 'শিক্ষিত'))"
      ],
      "execution_count": 19,
      "outputs": [
        {
          "output_type": "stream",
          "text": [
            "0.40557757\n"
          ],
          "name": "stdout"
        }
      ]
    },
    {
      "cell_type": "code",
      "metadata": {
        "id": "SvuQOnyOzDe8",
        "colab_type": "code",
        "colab": {
          "base_uri": "https://localhost:8080/",
          "height": 127
        },
        "outputId": "f3c1177b-29e9-4291-9e74-e6f8c990744a"
      },
      "source": [
        "semantically_similar_words = {words: [item[0] for item in model.wv.most_similar([words], topn=5)]\n",
        "                  for words in ['বাংলা', 'মাতা', 'একুশে', 'ভাষা', 'আনন্দ', 'আকাশ']}\n",
        "\n",
        "for k,v in semantically_similar_words.items():\n",
        "    print(k+\":\"+str(v))"
      ],
      "execution_count": 20,
      "outputs": [
        {
          "output_type": "stream",
          "text": [
            "বাংলা:['অসমীয়া', 'বাঙলা', 'বাংলার', 'হিন্দি', 'সাঁওতালি']\n",
            "মাতা:['জন্মনাম', 'পিতা', 'মাতার', 'দাদা', 'মা']\n",
            "একুশে:['গ্রন্থমেলায়', 'গ্রন্থমেলা', 'মরণোত্তর', 'অনন্যা', 'পদ্মভূষণ']\n",
            "ভাষা:['ভাষার', 'ভাষাকে', 'ভাষাটি', 'উপভাষা', 'ভাষাও']\n",
            "আনন্দ:['রজত', 'আরতি', 'সুখ', 'অন্তরে', 'নির্মল']\n",
            "আকাশ:['মেঘ', 'সূর্য', 'পৃথিবী', 'চাঁদের', 'আকাশের']\n"
          ],
          "name": "stdout"
        }
      ]
    },
    {
      "cell_type": "code",
      "metadata": {
        "id": "Y77yF3QzzHaO",
        "colab_type": "code",
        "colab": {
          "base_uri": "https://localhost:8080/",
          "height": 127
        },
        "outputId": "d1859372-e72d-4b2e-ae1b-02a66ccea70b"
      },
      "source": [
        "semantically_similar_words = {words: [item[0] for item in fasttext_model.wv.most_similar([words], topn=5)]\n",
        "                  for words in ['বাংলা', 'মাতা', 'একুশে', 'ভাষা', 'আনন্দ', 'আকাশ']}\n",
        "\n",
        "for k,v in semantically_similar_words.items():\n",
        "    print(k+\":\"+str(v))"
      ],
      "execution_count": 21,
      "outputs": [
        {
          "output_type": "stream",
          "text": [
            "বাংলা:['বাংলা৷', 'বাংলাঃ', 'বাংলালিংক', 'জোড়বাংলা', 'শেরেবাংলা']\n",
            "মাতা:['মাতাপিতা', 'মাতামহ', 'মাতামহী', 'মাতাও', 'মাতাল']\n",
            "একুশে:['একুশ', 'একুশতম', 'একুশের', '২১শে', '২৫শে']\n",
            "ভাষা:['ভাষা৷', 'ভাষাও', 'কথ্যভাষা', 'ভাষাই', 'উপভাষা']\n",
            "আনন্দ:['আনন্দীবাঈ', 'আনন্দঘন', 'আনন্দমঠ', 'আনন্দলোক', 'আনন্দী']\n",
            "আকাশ:['আকাশী', 'আকাশি', 'আকাশপথ', 'আকাশবাণী', 'আকাশসীমা']\n"
          ],
          "name": "stdout"
        }
      ]
    },
    {
      "cell_type": "code",
      "metadata": {
        "id": "xVGiRl35z28l",
        "colab_type": "code",
        "colab": {
          "base_uri": "https://localhost:8080/",
          "height": 55
        },
        "outputId": "e0791990-6ac6-4598-b0d3-c2e4bcb82494"
      },
      "source": [
        "from gensim.models.phrases import Phrases\n",
        "bigram = Phrases(tokenized_lines, min_count=3, threshold=10)\n",
        "print(bigram[tokenized_lines[0]])"
      ],
      "execution_count": 22,
      "outputs": [
        {
          "output_type": "stream",
          "text": [
            "['বাংলা_ভাষা', 'বাংলা_ভাষা', 'বাংলা_ভাষা', 'বাঙলা', 'বাঙ্গলা', 'তথা', 'বাঙ্গালা', 'নামগুলোতেও', 'পরিচিত', 'একটি', 'ইন্দো_আর্য', 'ভাষা', 'যা', 'দক্ষিণ_এশিয়ার', 'বাঙালি_জাতির', 'প্রধান', 'কথ্য', 'ও', 'লেখ্য_ভাষা']\n"
          ],
          "name": "stdout"
        }
      ]
    },
    {
      "cell_type": "code",
      "metadata": {
        "id": "2VX7zRG8z6il",
        "colab_type": "code",
        "colab": {
          "base_uri": "https://localhost:8080/",
          "height": 92
        },
        "outputId": "45dc5c0f-64a3-4967-aa59-143eddac9b2c"
      },
      "source": [
        "from sklearn.decomposition import PCA\n",
        "\n",
        "all_similar_words = sum([[k] + v for k, v in semantically_similar_words.items()], [])\n",
        "\n",
        "print(all_similar_words)\n",
        "print(type(all_similar_words))\n",
        "print(len(all_similar_words))"
      ],
      "execution_count": 23,
      "outputs": [
        {
          "output_type": "stream",
          "text": [
            "['বাংলা', 'বাংলা৷', 'বাংলাঃ', 'বাংলালিংক', 'জোড়বাংলা', 'শেরেবাংলা', 'মাতা', 'মাতাপিতা', 'মাতামহ', 'মাতামহী', 'মাতাও', 'মাতাল', 'একুশে', 'একুশ', 'একুশতম', 'একুশের', '২১শে', '২৫শে', 'ভাষা', 'ভাষা৷', 'ভাষাও', 'কথ্যভাষা', 'ভাষাই', 'উপভাষা', 'আনন্দ', 'আনন্দীবাঈ', 'আনন্দঘন', 'আনন্দমঠ', 'আনন্দলোক', 'আনন্দী', 'আকাশ', 'আকাশী', 'আকাশি', 'আকাশপথ', 'আকাশবাণী', 'আকাশসীমা']\n",
            "<class 'list'>\n",
            "36\n"
          ],
          "name": "stdout"
        }
      ]
    },
    {
      "cell_type": "code",
      "metadata": {
        "id": "voa9lQeG0JhO",
        "colab_type": "code",
        "colab": {
          "base_uri": "https://localhost:8080/",
          "height": 678
        },
        "outputId": "200ae626-40b2-4c34-f4a7-4a8ba62f6b73"
      },
      "source": [
        "word_vectors = fasttext_model.wv[all_similar_words]\n",
        "pca = PCA(n_components=2)\n",
        "p_comps = pca.fit_transform(word_vectors)\n",
        "word_names = all_similar_words\n",
        "\n",
        "word_names"
      ],
      "execution_count": 24,
      "outputs": [
        {
          "output_type": "execute_result",
          "data": {
            "text/plain": [
              "['বাংলা',\n",
              " 'বাংলা৷',\n",
              " 'বাংলাঃ',\n",
              " 'বাংলালিংক',\n",
              " 'জোড়বাংলা',\n",
              " 'শেরেবাংলা',\n",
              " 'মাতা',\n",
              " 'মাতাপিতা',\n",
              " 'মাতামহ',\n",
              " 'মাতামহী',\n",
              " 'মাতাও',\n",
              " 'মাতাল',\n",
              " 'একুশে',\n",
              " 'একুশ',\n",
              " 'একুশতম',\n",
              " 'একুশের',\n",
              " '২১শে',\n",
              " '২৫শে',\n",
              " 'ভাষা',\n",
              " 'ভাষা৷',\n",
              " 'ভাষাও',\n",
              " 'কথ্যভাষা',\n",
              " 'ভাষাই',\n",
              " 'উপভাষা',\n",
              " 'আনন্দ',\n",
              " 'আনন্দীবাঈ',\n",
              " 'আনন্দঘন',\n",
              " 'আনন্দমঠ',\n",
              " 'আনন্দলোক',\n",
              " 'আনন্দী',\n",
              " 'আকাশ',\n",
              " 'আকাশী',\n",
              " 'আকাশি',\n",
              " 'আকাশপথ',\n",
              " 'আকাশবাণী',\n",
              " 'আকাশসীমা']"
            ]
          },
          "metadata": {
            "tags": []
          },
          "execution_count": 24
        }
      ]
    },
    {
      "cell_type": "code",
      "metadata": {
        "id": "5zxCO4Qn0OMk",
        "colab_type": "code",
        "colab": {
          "base_uri": "https://localhost:8080/",
          "height": 794
        },
        "outputId": "1b236252-21d6-4ef8-b749-63dc44b5c170"
      },
      "source": [
        "\n",
        "\n",
        "# ছবিটা কিছুটা টেন্সর-ফ্লো এর এমবেডিং প্রজেক্টরের মতো\n",
        "\n",
        "import matplotlib\n",
        "import matplotlib.pyplot as plt\n",
        "import matplotlib.font_manager as fm\n",
        "\n",
        "# সিয়াম রুপালি ফন্ট ব্যবহার করছি \n",
        "!wget https://www.omicronlab.com/download/fonts/Siyamrupali.ttf\n",
        "prop = fm.FontProperties(fname='Siyamrupali.ttf')\n",
        "\n",
        "plt.figure(figsize=(18, 10))\n",
        "plt.scatter(p_comps[:, 0], p_comps[:, 1], c='red')\n",
        "\n",
        "for word_name, x, y in zip(word_names, p_comps[:, 0], p_comps[:, 1]):\n",
        "    plt.annotate(word_name, xy=(x+0.06, y+0.03), xytext=(0, 0), textcoords='offset points', fontproperties=prop)\n"
      ],
      "execution_count": 25,
      "outputs": [
        {
          "output_type": "stream",
          "text": [
            "--2019-11-19 17:59:18--  https://www.omicronlab.com/download/fonts/Siyamrupali.ttf\n",
            "Resolving www.omicronlab.com (www.omicronlab.com)... 172.104.46.32\n",
            "Connecting to www.omicronlab.com (www.omicronlab.com)|172.104.46.32|:443... connected.\n",
            "HTTP request sent, awaiting response... 200 OK\n",
            "Length: 401040 (392K) [application/octet-stream]\n",
            "Saving to: ‘Siyamrupali.ttf’\n",
            "\n",
            "Siyamrupali.ttf     100%[===================>] 391.64K   454KB/s    in 0.9s    \n",
            "\n",
            "2019-11-19 17:59:20 (454 KB/s) - ‘Siyamrupali.ttf’ saved [401040/401040]\n",
            "\n"
          ],
          "name": "stdout"
        },
        {
          "output_type": "display_data",
          "data": {
            "image/png": "[encoded data removed]",
            "text/plain": [
              "<Figure size 1296x720 with 1 Axes>"
            ]
          },
          "metadata": {
            "tags": []
          }
        }
      ]
    },
    {
      "cell_type": "code",
      "metadata": {
        "id": "cTy08yBV0Ym0",
        "colab_type": "code",
        "colab": {}
      },
      "source": [
        ""
      ],
      "execution_count": 0,
      "outputs": []
    }
  ]
}